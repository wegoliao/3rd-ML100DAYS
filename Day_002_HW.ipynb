{
 "cells": [
  {
   "cell_type": "markdown",
   "metadata": {},
   "source": [
    "## [作業目標]\n",
    "了解機器學習適合應用的領域與範疇。"
   ]
  },
  {
   "cell_type": "markdown",
   "metadata": {},
   "source": [
    "## [作業重點]\n",
    "透過瞭解機器學習的運作方式，找出非常適用機器學習應用的領域及其原因"
   ]
  },
  {
   "cell_type": "markdown",
   "metadata": {},
   "source": [
    "## 作業\n",
    "請找出一個你認為機器學習可以發光發熱的領域並闡述原因? "
   ]
  },
  {
   "cell_type": "code",
   "execution_count": null,
   "metadata": {},
   "outputs": [],
   "source": [
    "   給每個人的學習最佳地圖\n",
    "Scenario：告訴你眼前的知識、文化、情趣，如何最符合你喜好、最短時間的教練你的AI器人\n",
    "\n",
    "已知Methood:或許可以用監督、非監督、結構式學習\n",
    "在結合ImageNet的概念，鼓勵很多人上網分類知識\n",
    "\n",
    "未知Method:如何每個人身旁多一個學習秘書，來幫忙掌握主人\n",
    "    最近學什麼、知道什麼、喜好的學習方式等等。\n",
    "    \n",
    "目標: 一個可以給蠢人，不太會考高分人，但也對事物充滿好奇、\n",
    "想像力、熱情的人，一個公平好玩的機會。"
   ]
  }
 ],
 "metadata": {
  "kernelspec": {
   "display_name": "Python 3",
   "language": "python",
   "name": "python3"
  },
  "language_info": {
   "codemirror_mode": {
    "name": "ipython",
    "version": 3
   },
   "file_extension": ".py",
   "mimetype": "text/x-python",
   "name": "python",
   "nbconvert_exporter": "python",
   "pygments_lexer": "ipython3",
   "version": "3.7.3"
  }
 },
 "nbformat": 4,
 "nbformat_minor": 2
}
