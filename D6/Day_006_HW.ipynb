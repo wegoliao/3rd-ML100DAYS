{
 "cells": [
  {
   "cell_type": "markdown",
   "metadata": {},
   "source": [
    "# [作業目標]\n",
    "- 仿造範例的 One Hot Encoding, 將指定的資料進行編碼"
   ]
  },
  {
   "cell_type": "markdown",
   "metadata": {},
   "source": [
    "# [作業重點]\n",
    "- 將 sub_train 進行 One Hot Encoding 編碼 (In[4], Out[4])"
   ]
  },
  {
   "cell_type": "code",
   "execution_count": 23,
   "metadata": {
    "colab": {},
    "colab_type": "code",
    "id": "lh9gyloHVblR"
   },
   "outputs": [],
   "source": [
    "import os\n",
    "import numpy as np\n",
    "import pandas as pd"
   ]
  },
  {
   "cell_type": "code",
   "execution_count": 25,
   "metadata": {
    "colab": {},
    "colab_type": "code",
    "id": "z4iLB9cKVblV"
   },
   "outputs": [],
   "source": [
    "# 設定 data_path, 並讀取 app_train\n",
    "dir_data = './data/'\n",
    "f_app_train = os.path.join(dir_data, 'application_train.csv')\n",
    "app_train = pd.read_csv(f_app_train)\n"
   ]
  },
  {
   "cell_type": "markdown",
   "metadata": {
    "colab": {},
    "colab_type": "code",
    "collapsed": true,
    "id": "d5IeEcPVVblq"
   },
   "source": [
    "## 作業\n",
    "將下列部分資料片段 sub_train 使用 One Hot encoding, 並觀察轉換前後的欄位數量 (使用 shape) 與欄位名稱 (使用 head) 變化"
   ]
  },
  {
   "cell_type": "code",
   "execution_count": 26,
   "metadata": {},
   "outputs": [
    {
     "name": "stdout",
     "output_type": "stream",
     "text": [
      "(307511, 1)\n"
     ]
    },
    {
     "data": {
      "text/html": [
       "<div>\n",
       "<style scoped>\n",
       "    .dataframe tbody tr th:only-of-type {\n",
       "        vertical-align: middle;\n",
       "    }\n",
       "\n",
       "    .dataframe tbody tr th {\n",
       "        vertical-align: top;\n",
       "    }\n",
       "\n",
       "    .dataframe thead th {\n",
       "        text-align: right;\n",
       "    }\n",
       "</style>\n",
       "<table border=\"1\" class=\"dataframe\">\n",
       "  <thead>\n",
       "    <tr style=\"text-align: right;\">\n",
       "      <th></th>\n",
       "      <th>OCCUPATION_TYPE</th>\n",
       "    </tr>\n",
       "  </thead>\n",
       "  <tbody>\n",
       "    <tr>\n",
       "      <th>0</th>\n",
       "      <td>Laborers</td>\n",
       "    </tr>\n",
       "    <tr>\n",
       "      <th>1</th>\n",
       "      <td>Core staff</td>\n",
       "    </tr>\n",
       "    <tr>\n",
       "      <th>2</th>\n",
       "      <td>Laborers</td>\n",
       "    </tr>\n",
       "    <tr>\n",
       "      <th>3</th>\n",
       "      <td>Laborers</td>\n",
       "    </tr>\n",
       "    <tr>\n",
       "      <th>4</th>\n",
       "      <td>Core staff</td>\n",
       "    </tr>\n",
       "  </tbody>\n",
       "</table>\n",
       "</div>"
      ],
      "text/plain": [
       "  OCCUPATION_TYPE\n",
       "0        Laborers\n",
       "1      Core staff\n",
       "2        Laborers\n",
       "3        Laborers\n",
       "4      Core staff"
      ]
     },
     "execution_count": 26,
     "metadata": {},
     "output_type": "execute_result"
    }
   ],
   "source": [
    "print(sub_train.shape)\n",
    "sub_train.head()"
   ]
  },
  {
   "cell_type": "code",
   "execution_count": 28,
   "metadata": {},
   "outputs": [
    {
     "name": "stdout",
     "output_type": "stream",
     "text": [
      "   SK_ID_CURR  TARGET  CNT_CHILDREN  AMT_INCOME_TOTAL  AMT_CREDIT  \\\n",
      "0      100002       1             0          202500.0    406597.5   \n",
      "1      100003       0             0          270000.0   1293502.5   \n",
      "2      100004       0             0           67500.0    135000.0   \n",
      "3      100006       0             0          135000.0    312682.5   \n",
      "4      100007       0             0          121500.0    513000.0   \n",
      "\n",
      "   AMT_ANNUITY  AMT_GOODS_PRICE  REGION_POPULATION_RELATIVE  DAYS_BIRTH  \\\n",
      "0      24700.5         351000.0                    0.018801       -9461   \n",
      "1      35698.5        1129500.0                    0.003541      -16765   \n",
      "2       6750.0         135000.0                    0.010032      -19046   \n",
      "3      29686.5         297000.0                    0.008019      -19005   \n",
      "4      21865.5         513000.0                    0.028663      -19932   \n",
      "\n",
      "   DAYS_EMPLOYED  ...  HOUSETYPE_MODE_terraced house  \\\n",
      "0           -637  ...                              0   \n",
      "1          -1188  ...                              0   \n",
      "2           -225  ...                              0   \n",
      "3          -3039  ...                              0   \n",
      "4          -3038  ...                              0   \n",
      "\n",
      "   WALLSMATERIAL_MODE_Block  WALLSMATERIAL_MODE_Mixed  \\\n",
      "0                         0                         0   \n",
      "1                         1                         0   \n",
      "2                         0                         0   \n",
      "3                         0                         0   \n",
      "4                         0                         0   \n",
      "\n",
      "   WALLSMATERIAL_MODE_Monolithic  WALLSMATERIAL_MODE_Others  \\\n",
      "0                              0                          0   \n",
      "1                              0                          0   \n",
      "2                              0                          0   \n",
      "3                              0                          0   \n",
      "4                              0                          0   \n",
      "\n",
      "   WALLSMATERIAL_MODE_Panel  WALLSMATERIAL_MODE_Stone, brick  \\\n",
      "0                         0                                1   \n",
      "1                         0                                0   \n",
      "2                         0                                0   \n",
      "3                         0                                0   \n",
      "4                         0                                0   \n",
      "\n",
      "   WALLSMATERIAL_MODE_Wooden  EMERGENCYSTATE_MODE_No  EMERGENCYSTATE_MODE_Yes  \n",
      "0                          0                       1                        0  \n",
      "1                          0                       1                        0  \n",
      "2                          0                       0                        0  \n",
      "3                          0                       0                        0  \n",
      "4                          0                       0                        0  \n",
      "\n",
      "[5 rows x 246 columns]\n",
      "              OCCUPATION_TYPE\n",
      "0                    Laborers\n",
      "1                  Core staff\n",
      "2                    Laborers\n",
      "3                    Laborers\n",
      "4                  Core staff\n",
      "5                    Laborers\n",
      "6                 Accountants\n",
      "7                    Managers\n",
      "8                         NaN\n",
      "9                    Laborers\n",
      "10                 Core staff\n",
      "11                        NaN\n",
      "12                   Laborers\n",
      "13                    Drivers\n",
      "14                   Laborers\n",
      "15                   Laborers\n",
      "16                    Drivers\n",
      "17                   Laborers\n",
      "18                   Laborers\n",
      "19                 Core staff\n",
      "20                   Laborers\n",
      "21                Sales staff\n",
      "22                Sales staff\n",
      "23                        NaN\n",
      "24                    Drivers\n",
      "25             Cleaning staff\n",
      "26              Cooking staff\n",
      "27                   Laborers\n",
      "28                        NaN\n",
      "29                   Laborers\n",
      "...                       ...\n",
      "307481               Managers\n",
      "307482               Managers\n",
      "307483                    NaN\n",
      "307484               Managers\n",
      "307485            Sales staff\n",
      "307486                    NaN\n",
      "307487                    NaN\n",
      "307488             Core staff\n",
      "307489            Sales staff\n",
      "307490               Laborers\n",
      "307491                Drivers\n",
      "307492            Sales staff\n",
      "307493         Security staff\n",
      "307494                Drivers\n",
      "307495  High skill tech staff\n",
      "307496          Cooking staff\n",
      "307497            Sales staff\n",
      "307498               Laborers\n",
      "307499         Medicine staff\n",
      "307500                    NaN\n",
      "307501     Low-skill Laborers\n",
      "307502               Laborers\n",
      "307503             Core staff\n",
      "307504            Sales staff\n",
      "307505                    NaN\n",
      "307506            Sales staff\n",
      "307507                    NaN\n",
      "307508               Managers\n",
      "307509               Laborers\n",
      "307510               Laborers\n",
      "\n",
      "[307511 rows x 1 columns]\n"
     ]
    }
   ],
   "source": [
    "\"\"\"\n",
    "Your Code Here\n",
    "\"\"\"\n",
    "sub_train2 = pd.DataFrame(app_train['OCCUPATION_TYPE'])\n",
    "app_train2 = pd.get_dummies(app_train)\n",
    "print(app_train2.head())\n",
    "print(sub_train2)\n"
   ]
  }
 ],
 "metadata": {
  "colab": {
   "name": "Day_004_column_data_type.ipynb",
   "provenance": [],
   "version": "0.3.2"
  },
  "kernelspec": {
   "display_name": "Python 3",
   "language": "python",
   "name": "python3"
  },
  "language_info": {
   "codemirror_mode": {
    "name": "ipython",
    "version": 3
   },
   "file_extension": ".py",
   "mimetype": "text/x-python",
   "name": "python",
   "nbconvert_exporter": "python",
   "pygments_lexer": "ipython3",
   "version": "3.7.3"
  }
 },
 "nbformat": 4,
 "nbformat_minor": 1
}
