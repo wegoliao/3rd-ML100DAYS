{
 "cells": [
  {
   "cell_type": "markdown",
   "metadata": {},
   "source": [
    "# 作業\n",
    "* 試著想想看, 非監督學習是否有可能使用評價函數 (Metric) 來鑑別好壞呢?  \n",
    "(Hint : 可以分為 \"有目標值\" 與 \"無目標值\" 兩個方向思考)"
   ]
  },
  {
   "cell_type": "code",
   "execution_count": null,
   "metadata": {
    "collapsed": true
   },
   "outputs": [],
   "source": [
    "# 通常一筆資料，在沒有任何頭緒或是產業知識不足的情形下，對於資料的認知，較難有一定的了解。\n",
    "# 此時，在「未有既定判斷」、「不確定性較高」的情境中，可先將資料透過未監督學習的方式，找出\n",
    "# 資料維度彼之間的共同性。再標籤完成後，針對同一特徵進行細部討論。此時，在有人工分群完成的\n",
    "# 情形下，可考量利用評量函數來比對資料分散之後的一致性。\n",
    "\n",
    "\n",
    "有目標值的非監督學習可以利用目標值來評斷準確度 (accuracy)，而無目標值的非監督學習則無法從此面向下手。如果要進行評估的話僅能利用下列方式來進行評斷。\n",
    "１·相似度分析：假設資料的分佈呈現組內相似度高，組間相異度高的狀態。那麼我們會希望我們的模型訓練出來後盡可能地達到上述的狀況。\n",
    "２．分布擬合：如果我們對無監督學習的分佈的清晰的了解，那麼我們可以對資料進行分佈擬合的測試，譬如大多的資料會符合正太\n",
    "\n",
    "無監督學習無一定標準答案，在無標標值的情況下試圖找到隱藏的結構，通常有兩類做法。\n",
    "聚類：將資料集分成由類似的物件組成多個類，站在檢驗異常值的角度亦可將異常值隔離出去。\n",
    "密度估計：通過樣本分佈的緊密程度，來估計與分組的相似性。"
   ]
  }
 ],
 "metadata": {
  "kernelspec": {
   "display_name": "Python 3",
   "language": "python",
   "name": "python3"
  },
  "language_info": {
   "codemirror_mode": {
    "name": "ipython",
    "version": 3
   },
   "file_extension": ".py",
   "mimetype": "text/x-python",
   "name": "python",
   "nbconvert_exporter": "python",
   "pygments_lexer": "ipython3",
   "version": "3.7.4"
  }
 },
 "nbformat": 4,
 "nbformat_minor": 1
}
